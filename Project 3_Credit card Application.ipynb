{
 "cells": [
  {
   "cell_type": "code",
   "execution_count": 212,
   "metadata": {},
   "outputs": [],
   "source": [
    "import pandas as pd\n",
    "import matplotlib.pyplot as plt\n",
    "import numpy as np\n",
    "%matplotlib inline"
   ]
  },
  {
   "cell_type": "code",
   "execution_count": 213,
   "metadata": {},
   "outputs": [
    {
     "data": {
      "text/html": [
       "<div>\n",
       "<style scoped>\n",
       "    .dataframe tbody tr th:only-of-type {\n",
       "        vertical-align: middle;\n",
       "    }\n",
       "\n",
       "    .dataframe tbody tr th {\n",
       "        vertical-align: top;\n",
       "    }\n",
       "\n",
       "    .dataframe thead th {\n",
       "        text-align: right;\n",
       "    }\n",
       "</style>\n",
       "<table border=\"1\" class=\"dataframe\">\n",
       "  <thead>\n",
       "    <tr style=\"text-align: right;\">\n",
       "      <th></th>\n",
       "      <th>Application id</th>\n",
       "      <th>first_name</th>\n",
       "      <th>last_name</th>\n",
       "      <th>email</th>\n",
       "      <th>gender</th>\n",
       "      <th>address</th>\n",
       "      <th>age</th>\n",
       "      <th>tdecision</th>\n",
       "      <th>empstaus</th>\n",
       "      <th>ExCus (Customer in Past)</th>\n",
       "      <th>Source</th>\n",
       "      <th>Salary</th>\n",
       "      <th>ExDebt (Liability)</th>\n",
       "      <th>Booking</th>\n",
       "      <th>INT_ID</th>\n",
       "      <th>Prev_ID</th>\n",
       "      <th>AGT_ID</th>\n",
       "      <th>Booking_Amt</th>\n",
       "    </tr>\n",
       "  </thead>\n",
       "  <tbody>\n",
       "    <tr>\n",
       "      <td>0</td>\n",
       "      <td>1</td>\n",
       "      <td>Dollie</td>\n",
       "      <td>Scafe</td>\n",
       "      <td>dscafe0@is.gd</td>\n",
       "      <td>Female</td>\n",
       "      <td>02 Garrison Pass</td>\n",
       "      <td>34</td>\n",
       "      <td>Pending</td>\n",
       "      <td>SE</td>\n",
       "      <td>Y</td>\n",
       "      <td>EC</td>\n",
       "      <td>127110</td>\n",
       "      <td>25130</td>\n",
       "      <td>NaN</td>\n",
       "      <td>6869736235</td>\n",
       "      <td>79-489-1539</td>\n",
       "      <td>Mozilla/5.0 (Macintosh; U; Intel Mac OS X 10_6...</td>\n",
       "      <td>NaN</td>\n",
       "    </tr>\n",
       "    <tr>\n",
       "      <td>1</td>\n",
       "      <td>2</td>\n",
       "      <td>Austin</td>\n",
       "      <td>Pennycook</td>\n",
       "      <td>apennycook1@mac.com</td>\n",
       "      <td>Male</td>\n",
       "      <td>007 Miller Road</td>\n",
       "      <td>57</td>\n",
       "      <td>Approve</td>\n",
       "      <td>SE</td>\n",
       "      <td>Y</td>\n",
       "      <td>D</td>\n",
       "      <td>464039</td>\n",
       "      <td>22311</td>\n",
       "      <td>Y</td>\n",
       "      <td>9694176212</td>\n",
       "      <td>92-247-0058</td>\n",
       "      <td>Mozilla/5.0 (Windows; U; Windows NT 5.1; zh-TW...</td>\n",
       "      <td>278423.4</td>\n",
       "    </tr>\n",
       "    <tr>\n",
       "      <td>2</td>\n",
       "      <td>3</td>\n",
       "      <td>Mareah</td>\n",
       "      <td>Tomanek</td>\n",
       "      <td>mtomanek2@bloomberg.com</td>\n",
       "      <td>Female</td>\n",
       "      <td>145 Charing Cross Junction</td>\n",
       "      <td>57</td>\n",
       "      <td>Approve</td>\n",
       "      <td>SE</td>\n",
       "      <td>Y</td>\n",
       "      <td>3P</td>\n",
       "      <td>584420</td>\n",
       "      <td>28557</td>\n",
       "      <td>Y</td>\n",
       "      <td>152387684</td>\n",
       "      <td>36-236-3028</td>\n",
       "      <td>Mozilla/5.0 (Windows NT 5.1; rv:21.0) Gecko/20...</td>\n",
       "      <td>350652.0</td>\n",
       "    </tr>\n",
       "    <tr>\n",
       "      <td>3</td>\n",
       "      <td>4</td>\n",
       "      <td>Myrna</td>\n",
       "      <td>Rosenthaler</td>\n",
       "      <td>mrosenthaler3@dmoz.org</td>\n",
       "      <td>Female</td>\n",
       "      <td>268 Algoma Hill</td>\n",
       "      <td>59</td>\n",
       "      <td>Approve</td>\n",
       "      <td>SE</td>\n",
       "      <td>Y</td>\n",
       "      <td>3P</td>\n",
       "      <td>583781</td>\n",
       "      <td>26042</td>\n",
       "      <td>Y</td>\n",
       "      <td>6510396556</td>\n",
       "      <td>34-339-0917</td>\n",
       "      <td>Mozilla/5.0 (Windows; U; Windows NT 6.1; cs-CZ...</td>\n",
       "      <td>350268.6</td>\n",
       "    </tr>\n",
       "    <tr>\n",
       "      <td>4</td>\n",
       "      <td>5</td>\n",
       "      <td>Danyette</td>\n",
       "      <td>Stempe</td>\n",
       "      <td>dstempe4@tumblr.com</td>\n",
       "      <td>Female</td>\n",
       "      <td>571 Stone Corner Park</td>\n",
       "      <td>51</td>\n",
       "      <td>Approve</td>\n",
       "      <td>SE</td>\n",
       "      <td>N</td>\n",
       "      <td>MP</td>\n",
       "      <td>551718</td>\n",
       "      <td>27892</td>\n",
       "      <td>Y</td>\n",
       "      <td>7141853006</td>\n",
       "      <td>94-098-8902</td>\n",
       "      <td>Mozilla/5.0 (iPhone; U; CPU iPhone OS 4_2_1 li...</td>\n",
       "      <td>331030.8</td>\n",
       "    </tr>\n",
       "  </tbody>\n",
       "</table>\n",
       "</div>"
      ],
      "text/plain": [
       "   Application id first_name    last_name                    email  gender  \\\n",
       "0               1     Dollie        Scafe            dscafe0@is.gd  Female   \n",
       "1               2     Austin    Pennycook      apennycook1@mac.com    Male   \n",
       "2               3     Mareah      Tomanek  mtomanek2@bloomberg.com  Female   \n",
       "3               4      Myrna  Rosenthaler   mrosenthaler3@dmoz.org  Female   \n",
       "4               5   Danyette       Stempe      dstempe4@tumblr.com  Female   \n",
       "\n",
       "                      address  age tdecision empstaus  \\\n",
       "0            02 Garrison Pass   34   Pending       SE   \n",
       "1             007 Miller Road   57   Approve       SE   \n",
       "2  145 Charing Cross Junction   57   Approve       SE   \n",
       "3             268 Algoma Hill   59   Approve       SE   \n",
       "4       571 Stone Corner Park   51   Approve       SE   \n",
       "\n",
       "  ExCus (Customer in Past) Source  Salary  ExDebt (Liability) Booking  \\\n",
       "0                        Y     EC  127110               25130     NaN   \n",
       "1                        Y      D  464039               22311       Y   \n",
       "2                        Y     3P  584420               28557       Y   \n",
       "3                        Y     3P  583781               26042       Y   \n",
       "4                        N     MP  551718               27892       Y   \n",
       "\n",
       "       INT_ID      Prev_ID                                             AGT_ID  \\\n",
       "0  6869736235  79-489-1539  Mozilla/5.0 (Macintosh; U; Intel Mac OS X 10_6...   \n",
       "1  9694176212  92-247-0058  Mozilla/5.0 (Windows; U; Windows NT 5.1; zh-TW...   \n",
       "2   152387684  36-236-3028  Mozilla/5.0 (Windows NT 5.1; rv:21.0) Gecko/20...   \n",
       "3  6510396556  34-339-0917  Mozilla/5.0 (Windows; U; Windows NT 6.1; cs-CZ...   \n",
       "4  7141853006  94-098-8902  Mozilla/5.0 (iPhone; U; CPU iPhone OS 4_2_1 li...   \n",
       "\n",
       "   Booking_Amt  \n",
       "0          NaN  \n",
       "1     278423.4  \n",
       "2     350652.0  \n",
       "3     350268.6  \n",
       "4     331030.8  "
      ]
     },
     "execution_count": 213,
     "metadata": {},
     "output_type": "execute_result"
    }
   ],
   "source": [
    "file=pd.read_excel(\"Credit_cards_App_data.xlsx\")\n",
    "file.head()"
   ]
  },
  {
   "cell_type": "code",
   "execution_count": 214,
   "metadata": {},
   "outputs": [
    {
     "data": {
      "text/plain": [
       "(1000, 18)"
      ]
     },
     "execution_count": 214,
     "metadata": {},
     "output_type": "execute_result"
    }
   ],
   "source": [
    "file.shape #Shape of the data"
   ]
  },
  {
   "cell_type": "code",
   "execution_count": 215,
   "metadata": {},
   "outputs": [
    {
     "data": {
      "text/plain": [
       "Index(['Application id', 'first_name', 'last_name', 'email', 'gender',\n",
       "       'address', 'age', 'tdecision', 'empstaus', 'ExCus (Customer in Past)',\n",
       "       'Source', 'Salary', 'ExDebt (Liability)', 'Booking', 'INT_ID',\n",
       "       'Prev_ID', 'AGT_ID', 'Booking_Amt'],\n",
       "      dtype='object')"
      ]
     },
     "execution_count": 215,
     "metadata": {},
     "output_type": "execute_result"
    }
   ],
   "source": [
    "file.columns #Column names"
   ]
  },
  {
   "cell_type": "code",
   "execution_count": 216,
   "metadata": {},
   "outputs": [
    {
     "name": "stdout",
     "output_type": "stream",
     "text": [
      "**** gender ****\n",
      "Female    526\n",
      "Male      474\n",
      "Name: gender, dtype: int64\n",
      "**** Source ****\n",
      "MP    259\n",
      "EC    251\n",
      "D     247\n",
      "3P    243\n",
      "Name: Source, dtype: int64\n",
      "**** Booking ****\n",
      "Y    581\n",
      "N    118\n",
      "Name: Booking, dtype: int64\n",
      "**** empstaus ****\n",
      "SE     506\n",
      "NSE    494\n",
      "Name: empstaus, dtype: int64\n"
     ]
    }
   ],
   "source": [
    "cat = ['gender','Source','Booking','empstaus'] #A clear analysis\n",
    "for i in cat:\n",
    "    print('****',i,'****')\n",
    "    print(file[i].value_counts())"
   ]
  },
  {
   "cell_type": "code",
   "execution_count": 217,
   "metadata": {},
   "outputs": [
    {
     "name": "stdout",
     "output_type": "stream",
     "text": [
      "1000\n"
     ]
    },
    {
     "data": {
      "text/plain": [
       "0         1\n",
       "1         2\n",
       "2         3\n",
       "3         4\n",
       "4         5\n",
       "       ... \n",
       "995     996\n",
       "996     997\n",
       "997     998\n",
       "998     999\n",
       "999    1000\n",
       "Name: Application id, Length: 1000, dtype: int64"
      ]
     },
     "execution_count": 217,
     "metadata": {},
     "output_type": "execute_result"
    }
   ],
   "source": [
    "print(len(file['Application id'])) #No. of applicants\n",
    "file['Application id']"
   ]
  },
  {
   "cell_type": "code",
   "execution_count": 218,
   "metadata": {},
   "outputs": [
    {
     "name": "stdout",
     "output_type": "stream",
     "text": [
      "699\n"
     ]
    },
    {
     "data": {
      "text/html": [
       "<div>\n",
       "<style scoped>\n",
       "    .dataframe tbody tr th:only-of-type {\n",
       "        vertical-align: middle;\n",
       "    }\n",
       "\n",
       "    .dataframe tbody tr th {\n",
       "        vertical-align: top;\n",
       "    }\n",
       "\n",
       "    .dataframe thead th {\n",
       "        text-align: right;\n",
       "    }\n",
       "</style>\n",
       "<table border=\"1\" class=\"dataframe\">\n",
       "  <thead>\n",
       "    <tr style=\"text-align: right;\">\n",
       "      <th></th>\n",
       "      <th>Application id</th>\n",
       "      <th>first_name</th>\n",
       "      <th>last_name</th>\n",
       "      <th>email</th>\n",
       "      <th>gender</th>\n",
       "      <th>address</th>\n",
       "      <th>age</th>\n",
       "      <th>tdecision</th>\n",
       "      <th>empstaus</th>\n",
       "      <th>ExCus (Customer in Past)</th>\n",
       "      <th>Source</th>\n",
       "      <th>Salary</th>\n",
       "      <th>ExDebt (Liability)</th>\n",
       "      <th>Booking</th>\n",
       "      <th>INT_ID</th>\n",
       "      <th>Prev_ID</th>\n",
       "      <th>AGT_ID</th>\n",
       "      <th>Booking_Amt</th>\n",
       "    </tr>\n",
       "  </thead>\n",
       "  <tbody>\n",
       "    <tr>\n",
       "      <td>1</td>\n",
       "      <td>2</td>\n",
       "      <td>Austin</td>\n",
       "      <td>Pennycook</td>\n",
       "      <td>apennycook1@mac.com</td>\n",
       "      <td>Male</td>\n",
       "      <td>007 Miller Road</td>\n",
       "      <td>57</td>\n",
       "      <td>Approve</td>\n",
       "      <td>SE</td>\n",
       "      <td>Y</td>\n",
       "      <td>D</td>\n",
       "      <td>464039</td>\n",
       "      <td>22311</td>\n",
       "      <td>Y</td>\n",
       "      <td>9694176212</td>\n",
       "      <td>92-247-0058</td>\n",
       "      <td>Mozilla/5.0 (Windows; U; Windows NT 5.1; zh-TW...</td>\n",
       "      <td>278423.4</td>\n",
       "    </tr>\n",
       "    <tr>\n",
       "      <td>2</td>\n",
       "      <td>3</td>\n",
       "      <td>Mareah</td>\n",
       "      <td>Tomanek</td>\n",
       "      <td>mtomanek2@bloomberg.com</td>\n",
       "      <td>Female</td>\n",
       "      <td>145 Charing Cross Junction</td>\n",
       "      <td>57</td>\n",
       "      <td>Approve</td>\n",
       "      <td>SE</td>\n",
       "      <td>Y</td>\n",
       "      <td>3P</td>\n",
       "      <td>584420</td>\n",
       "      <td>28557</td>\n",
       "      <td>Y</td>\n",
       "      <td>152387684</td>\n",
       "      <td>36-236-3028</td>\n",
       "      <td>Mozilla/5.0 (Windows NT 5.1; rv:21.0) Gecko/20...</td>\n",
       "      <td>350652.0</td>\n",
       "    </tr>\n",
       "    <tr>\n",
       "      <td>3</td>\n",
       "      <td>4</td>\n",
       "      <td>Myrna</td>\n",
       "      <td>Rosenthaler</td>\n",
       "      <td>mrosenthaler3@dmoz.org</td>\n",
       "      <td>Female</td>\n",
       "      <td>268 Algoma Hill</td>\n",
       "      <td>59</td>\n",
       "      <td>Approve</td>\n",
       "      <td>SE</td>\n",
       "      <td>Y</td>\n",
       "      <td>3P</td>\n",
       "      <td>583781</td>\n",
       "      <td>26042</td>\n",
       "      <td>Y</td>\n",
       "      <td>6510396556</td>\n",
       "      <td>34-339-0917</td>\n",
       "      <td>Mozilla/5.0 (Windows; U; Windows NT 6.1; cs-CZ...</td>\n",
       "      <td>350268.6</td>\n",
       "    </tr>\n",
       "    <tr>\n",
       "      <td>4</td>\n",
       "      <td>5</td>\n",
       "      <td>Danyette</td>\n",
       "      <td>Stempe</td>\n",
       "      <td>dstempe4@tumblr.com</td>\n",
       "      <td>Female</td>\n",
       "      <td>571 Stone Corner Park</td>\n",
       "      <td>51</td>\n",
       "      <td>Approve</td>\n",
       "      <td>SE</td>\n",
       "      <td>N</td>\n",
       "      <td>MP</td>\n",
       "      <td>551718</td>\n",
       "      <td>27892</td>\n",
       "      <td>Y</td>\n",
       "      <td>7141853006</td>\n",
       "      <td>94-098-8902</td>\n",
       "      <td>Mozilla/5.0 (iPhone; U; CPU iPhone OS 4_2_1 li...</td>\n",
       "      <td>331030.8</td>\n",
       "    </tr>\n",
       "    <tr>\n",
       "      <td>5</td>\n",
       "      <td>6</td>\n",
       "      <td>Patten</td>\n",
       "      <td>McCathy</td>\n",
       "      <td>pmccathy5@ted.com</td>\n",
       "      <td>Male</td>\n",
       "      <td>118 Moulton Drive</td>\n",
       "      <td>31</td>\n",
       "      <td>Approve</td>\n",
       "      <td>SE</td>\n",
       "      <td>N</td>\n",
       "      <td>D</td>\n",
       "      <td>209517</td>\n",
       "      <td>29554</td>\n",
       "      <td>N</td>\n",
       "      <td>23293411</td>\n",
       "      <td>38-247-1410</td>\n",
       "      <td>Mozilla/5.0 (Windows NT 6.0; WOW64) AppleWebKi...</td>\n",
       "      <td>62855.1</td>\n",
       "    </tr>\n",
       "  </tbody>\n",
       "</table>\n",
       "</div>"
      ],
      "text/plain": [
       "   Application id first_name    last_name                    email  gender  \\\n",
       "1               2     Austin    Pennycook      apennycook1@mac.com    Male   \n",
       "2               3     Mareah      Tomanek  mtomanek2@bloomberg.com  Female   \n",
       "3               4      Myrna  Rosenthaler   mrosenthaler3@dmoz.org  Female   \n",
       "4               5   Danyette       Stempe      dstempe4@tumblr.com  Female   \n",
       "5               6     Patten      McCathy        pmccathy5@ted.com    Male   \n",
       "\n",
       "                      address  age tdecision empstaus  \\\n",
       "1             007 Miller Road   57   Approve       SE   \n",
       "2  145 Charing Cross Junction   57   Approve       SE   \n",
       "3             268 Algoma Hill   59   Approve       SE   \n",
       "4       571 Stone Corner Park   51   Approve       SE   \n",
       "5           118 Moulton Drive   31   Approve       SE   \n",
       "\n",
       "  ExCus (Customer in Past) Source  Salary  ExDebt (Liability) Booking  \\\n",
       "1                        Y      D  464039               22311       Y   \n",
       "2                        Y     3P  584420               28557       Y   \n",
       "3                        Y     3P  583781               26042       Y   \n",
       "4                        N     MP  551718               27892       Y   \n",
       "5                        N      D  209517               29554       N   \n",
       "\n",
       "       INT_ID      Prev_ID                                             AGT_ID  \\\n",
       "1  9694176212  92-247-0058  Mozilla/5.0 (Windows; U; Windows NT 5.1; zh-TW...   \n",
       "2   152387684  36-236-3028  Mozilla/5.0 (Windows NT 5.1; rv:21.0) Gecko/20...   \n",
       "3  6510396556  34-339-0917  Mozilla/5.0 (Windows; U; Windows NT 6.1; cs-CZ...   \n",
       "4  7141853006  94-098-8902  Mozilla/5.0 (iPhone; U; CPU iPhone OS 4_2_1 li...   \n",
       "5    23293411  38-247-1410  Mozilla/5.0 (Windows NT 6.0; WOW64) AppleWebKi...   \n",
       "\n",
       "   Booking_Amt  \n",
       "1     278423.4  \n",
       "2     350652.0  \n",
       "3     350268.6  \n",
       "4     331030.8  \n",
       "5      62855.1  "
      ]
     },
     "execution_count": 218,
     "metadata": {},
     "output_type": "execute_result"
    }
   ],
   "source": [
    "print(len(file[file['tdecision']=='Approve']))#Approved applications\n",
    "df=file[file['tdecision']=='Approve'].iloc[:,:]\n",
    "df.head()"
   ]
  },
  {
   "cell_type": "code",
   "execution_count": 219,
   "metadata": {},
   "outputs": [
    {
     "name": "stdout",
     "output_type": "stream",
     "text": [
      "581\n"
     ]
    },
    {
     "data": {
      "text/html": [
       "<div>\n",
       "<style scoped>\n",
       "    .dataframe tbody tr th:only-of-type {\n",
       "        vertical-align: middle;\n",
       "    }\n",
       "\n",
       "    .dataframe tbody tr th {\n",
       "        vertical-align: top;\n",
       "    }\n",
       "\n",
       "    .dataframe thead th {\n",
       "        text-align: right;\n",
       "    }\n",
       "</style>\n",
       "<table border=\"1\" class=\"dataframe\">\n",
       "  <thead>\n",
       "    <tr style=\"text-align: right;\">\n",
       "      <th></th>\n",
       "      <th>first_name</th>\n",
       "      <th>last_name</th>\n",
       "      <th>email</th>\n",
       "      <th>gender</th>\n",
       "    </tr>\n",
       "  </thead>\n",
       "  <tbody>\n",
       "    <tr>\n",
       "      <td>1</td>\n",
       "      <td>Austin</td>\n",
       "      <td>Pennycook</td>\n",
       "      <td>apennycook1@mac.com</td>\n",
       "      <td>Male</td>\n",
       "    </tr>\n",
       "    <tr>\n",
       "      <td>2</td>\n",
       "      <td>Mareah</td>\n",
       "      <td>Tomanek</td>\n",
       "      <td>mtomanek2@bloomberg.com</td>\n",
       "      <td>Female</td>\n",
       "    </tr>\n",
       "    <tr>\n",
       "      <td>3</td>\n",
       "      <td>Myrna</td>\n",
       "      <td>Rosenthaler</td>\n",
       "      <td>mrosenthaler3@dmoz.org</td>\n",
       "      <td>Female</td>\n",
       "    </tr>\n",
       "    <tr>\n",
       "      <td>4</td>\n",
       "      <td>Danyette</td>\n",
       "      <td>Stempe</td>\n",
       "      <td>dstempe4@tumblr.com</td>\n",
       "      <td>Female</td>\n",
       "    </tr>\n",
       "    <tr>\n",
       "      <td>6</td>\n",
       "      <td>Alf</td>\n",
       "      <td>Banger</td>\n",
       "      <td>abanger6@51.la</td>\n",
       "      <td>Male</td>\n",
       "    </tr>\n",
       "    <tr>\n",
       "      <td>...</td>\n",
       "      <td>...</td>\n",
       "      <td>...</td>\n",
       "      <td>...</td>\n",
       "      <td>...</td>\n",
       "    </tr>\n",
       "    <tr>\n",
       "      <td>987</td>\n",
       "      <td>Rab</td>\n",
       "      <td>Bendik</td>\n",
       "      <td>rbendikrf@techcrunch.com</td>\n",
       "      <td>Male</td>\n",
       "    </tr>\n",
       "    <tr>\n",
       "      <td>990</td>\n",
       "      <td>Nertie</td>\n",
       "      <td>Twelve</td>\n",
       "      <td>ntwelveri@earthlink.net</td>\n",
       "      <td>Female</td>\n",
       "    </tr>\n",
       "    <tr>\n",
       "      <td>991</td>\n",
       "      <td>Ainslee</td>\n",
       "      <td>Redhouse</td>\n",
       "      <td>aredhouserj@biblegateway.com</td>\n",
       "      <td>Female</td>\n",
       "    </tr>\n",
       "    <tr>\n",
       "      <td>993</td>\n",
       "      <td>Agnesse</td>\n",
       "      <td>Fligg</td>\n",
       "      <td>afliggrl@goo.ne.jp</td>\n",
       "      <td>Female</td>\n",
       "    </tr>\n",
       "    <tr>\n",
       "      <td>994</td>\n",
       "      <td>Blinny</td>\n",
       "      <td>Clemes</td>\n",
       "      <td>bclemesrm@exblog.jp</td>\n",
       "      <td>Female</td>\n",
       "    </tr>\n",
       "  </tbody>\n",
       "</table>\n",
       "<p>581 rows × 4 columns</p>\n",
       "</div>"
      ],
      "text/plain": [
       "    first_name    last_name                         email  gender\n",
       "1       Austin    Pennycook           apennycook1@mac.com    Male\n",
       "2       Mareah      Tomanek       mtomanek2@bloomberg.com  Female\n",
       "3        Myrna  Rosenthaler        mrosenthaler3@dmoz.org  Female\n",
       "4     Danyette       Stempe           dstempe4@tumblr.com  Female\n",
       "6          Alf       Banger                abanger6@51.la    Male\n",
       "..         ...          ...                           ...     ...\n",
       "987        Rab       Bendik      rbendikrf@techcrunch.com    Male\n",
       "990     Nertie       Twelve       ntwelveri@earthlink.net  Female\n",
       "991    Ainslee     Redhouse  aredhouserj@biblegateway.com  Female\n",
       "993    Agnesse        Fligg            afliggrl@goo.ne.jp  Female\n",
       "994     Blinny       Clemes           bclemesrm@exblog.jp  Female\n",
       "\n",
       "[581 rows x 4 columns]"
      ]
     },
     "execution_count": 219,
     "metadata": {},
     "output_type": "execute_result"
    }
   ],
   "source": [
    "print(len(file[file['Booking']=='Y']))#Booked Applications\n",
    "file[file['Booking']=='Y'].iloc[:,1:5]"
   ]
  },
  {
   "cell_type": "code",
   "execution_count": 220,
   "metadata": {},
   "outputs": [
    {
     "name": "stdout",
     "output_type": "stream",
     "text": [
      "0.8311874105865522\n"
     ]
    }
   ],
   "source": [
    "print(len(file[file['Booking']=='Y'])/len(file[file['tdecision']=='Approve'])) #Booking Rate"
   ]
  },
  {
   "cell_type": "code",
   "execution_count": 221,
   "metadata": {},
   "outputs": [
    {
     "name": "stdout",
     "output_type": "stream",
     "text": [
      "0.699\n"
     ]
    }
   ],
   "source": [
    "print(len(file[file['tdecision']=='Approve'])/len(file['Application id'])) #Approval Rate"
   ]
  },
  {
   "cell_type": "code",
   "execution_count": 222,
   "metadata": {
    "scrolled": true
   },
   "outputs": [
    {
     "data": {
      "text/html": [
       "<div>\n",
       "<style scoped>\n",
       "    .dataframe tbody tr th:only-of-type {\n",
       "        vertical-align: middle;\n",
       "    }\n",
       "\n",
       "    .dataframe tbody tr th {\n",
       "        vertical-align: top;\n",
       "    }\n",
       "\n",
       "    .dataframe thead th {\n",
       "        text-align: right;\n",
       "    }\n",
       "</style>\n",
       "<table border=\"1\" class=\"dataframe\">\n",
       "  <thead>\n",
       "    <tr style=\"text-align: right;\">\n",
       "      <th></th>\n",
       "      <th>Application id</th>\n",
       "      <th>first_name</th>\n",
       "      <th>last_name</th>\n",
       "      <th>Booking_Amt</th>\n",
       "    </tr>\n",
       "  </thead>\n",
       "  <tbody>\n",
       "    <tr>\n",
       "      <td>1</td>\n",
       "      <td>2</td>\n",
       "      <td>Austin</td>\n",
       "      <td>Pennycook</td>\n",
       "      <td>278423.4</td>\n",
       "    </tr>\n",
       "    <tr>\n",
       "      <td>2</td>\n",
       "      <td>3</td>\n",
       "      <td>Mareah</td>\n",
       "      <td>Tomanek</td>\n",
       "      <td>350652.0</td>\n",
       "    </tr>\n",
       "    <tr>\n",
       "      <td>3</td>\n",
       "      <td>4</td>\n",
       "      <td>Myrna</td>\n",
       "      <td>Rosenthaler</td>\n",
       "      <td>350268.6</td>\n",
       "    </tr>\n",
       "    <tr>\n",
       "      <td>4</td>\n",
       "      <td>5</td>\n",
       "      <td>Danyette</td>\n",
       "      <td>Stempe</td>\n",
       "      <td>331030.8</td>\n",
       "    </tr>\n",
       "    <tr>\n",
       "      <td>6</td>\n",
       "      <td>7</td>\n",
       "      <td>Alf</td>\n",
       "      <td>Banger</td>\n",
       "      <td>216922.8</td>\n",
       "    </tr>\n",
       "    <tr>\n",
       "      <td>...</td>\n",
       "      <td>...</td>\n",
       "      <td>...</td>\n",
       "      <td>...</td>\n",
       "      <td>...</td>\n",
       "    </tr>\n",
       "    <tr>\n",
       "      <td>987</td>\n",
       "      <td>988</td>\n",
       "      <td>Rab</td>\n",
       "      <td>Bendik</td>\n",
       "      <td>411118.2</td>\n",
       "    </tr>\n",
       "    <tr>\n",
       "      <td>990</td>\n",
       "      <td>991</td>\n",
       "      <td>Nertie</td>\n",
       "      <td>Twelve</td>\n",
       "      <td>258461.4</td>\n",
       "    </tr>\n",
       "    <tr>\n",
       "      <td>991</td>\n",
       "      <td>992</td>\n",
       "      <td>Ainslee</td>\n",
       "      <td>Redhouse</td>\n",
       "      <td>657514.5</td>\n",
       "    </tr>\n",
       "    <tr>\n",
       "      <td>993</td>\n",
       "      <td>994</td>\n",
       "      <td>Agnesse</td>\n",
       "      <td>Fligg</td>\n",
       "      <td>563636.4</td>\n",
       "    </tr>\n",
       "    <tr>\n",
       "      <td>994</td>\n",
       "      <td>995</td>\n",
       "      <td>Blinny</td>\n",
       "      <td>Clemes</td>\n",
       "      <td>537659.1</td>\n",
       "    </tr>\n",
       "  </tbody>\n",
       "</table>\n",
       "<p>581 rows × 4 columns</p>\n",
       "</div>"
      ],
      "text/plain": [
       "     Application id first_name    last_name  Booking_Amt\n",
       "1                 2     Austin    Pennycook     278423.4\n",
       "2                 3     Mareah      Tomanek     350652.0\n",
       "3                 4      Myrna  Rosenthaler     350268.6\n",
       "4                 5   Danyette       Stempe     331030.8\n",
       "6                 7        Alf       Banger     216922.8\n",
       "..              ...        ...          ...          ...\n",
       "987             988        Rab       Bendik     411118.2\n",
       "990             991     Nertie       Twelve     258461.4\n",
       "991             992    Ainslee     Redhouse     657514.5\n",
       "993             994    Agnesse        Fligg     563636.4\n",
       "994             995     Blinny       Clemes     537659.1\n",
       "\n",
       "[581 rows x 4 columns]"
      ]
     },
     "execution_count": 222,
     "metadata": {},
     "output_type": "execute_result"
    }
   ],
   "source": [
    "#New Booking\n",
    "file[file['Booking']=='Y'].loc[:,['Application id', 'first_name', 'last_name','Booking_Amt']]"
   ]
  },
  {
   "cell_type": "code",
   "execution_count": 223,
   "metadata": {},
   "outputs": [
    {
     "name": "stdout",
     "output_type": "stream",
     "text": [
      "253804130.1\n"
     ]
    }
   ],
   "source": [
    "#New Booking Amount:\n",
    "print(file['Booking_Amt'].sum(axis = 0))"
   ]
  },
  {
   "cell_type": "code",
   "execution_count": 224,
   "metadata": {},
   "outputs": [
    {
     "data": {
      "text/plain": [
       "<matplotlib.axes._subplots.AxesSubplot at 0x1918aa9ba88>"
      ]
     },
     "execution_count": 224,
     "metadata": {},
     "output_type": "execute_result"
    },
    {
     "data": {
      "image/png": "[encoded data removed]",
      "text/plain": [
       "<Figure size 432x288 with 1 Axes>"
      ]
     },
     "metadata": {
      "needs_background": "light"
     },
     "output_type": "display_data"
    }
   ],
   "source": [
    "file['tdecision'].value_counts().plot(kind = 'bar') #Barplot of decisions"
   ]
  },
  {
   "cell_type": "code",
   "execution_count": 225,
   "metadata": {},
   "outputs": [
    {
     "data": {
      "text/plain": [
       "<matplotlib.axes._subplots.AxesSubplot at 0x1918c8fc3c8>"
      ]
     },
     "execution_count": 225,
     "metadata": {},
     "output_type": "execute_result"
    },
    {
     "data": {
      "image/png": "[encoded data removed]",
      "text/plain": [
       "<Figure size 432x288 with 1 Axes>"
      ]
     },
     "metadata": {
      "needs_background": "light"
     },
     "output_type": "display_data"
    }
   ],
   "source": [
    "df['empstaus'].value_counts().plot(kind = 'bar') #Bar plot of emp status from the one's whose applications are approved."
   ]
  },
  {
   "cell_type": "code",
   "execution_count": 226,
   "metadata": {},
   "outputs": [
    {
     "data": {
      "text/plain": [
       "<matplotlib.axes._subplots.AxesSubplot at 0x1918c6dfa88>"
      ]
     },
     "execution_count": 226,
     "metadata": {},
     "output_type": "execute_result"
    },
    {
     "data": {
      "image/png": "[encoded data removed]",
      "text/plain": [
       "<Figure size 432x288 with 1 Axes>"
      ]
     },
     "metadata": {
      "needs_background": "light"
     },
     "output_type": "display_data"
    }
   ],
   "source": [
    "df['Booking'].value_counts().plot(kind = 'bar') #Bar plot of booking applicants from the one's whose applications are approved."
   ]
  },
  {
   "cell_type": "code",
   "execution_count": null,
   "metadata": {},
   "outputs": [],
   "source": []
  }
 ],
 "metadata": {
  "kernelspec": {
   "display_name": "Python 3",
   "language": "python",
   "name": "python3"
  },
  "language_info": {
   "codemirror_mode": {
    "name": "ipython",
    "version": 3
   },
   "file_extension": ".py",
   "mimetype": "text/x-python",
   "name": "python",
   "nbconvert_exporter": "python",
   "pygments_lexer": "ipython3",
   "version": "3.7.4"
  }
 },
 "nbformat": 4,
 "nbformat_minor": 2
}
